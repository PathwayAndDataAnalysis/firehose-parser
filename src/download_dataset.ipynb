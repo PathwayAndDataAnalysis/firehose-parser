{
 "cells": [
  {
   "cell_type": "code",
   "execution_count": 45,
   "metadata": {},
   "outputs": [
    {
     "ename": "SyntaxError",
     "evalue": "invalid syntax (<ipython-input-45-8335be770ec1>, line 3)",
     "output_type": "error",
     "traceback": [
      "\u001b[0;36m  File \u001b[0;32m\"<ipython-input-45-8335be770ec1>\"\u001b[0;36m, line \u001b[0;32m3\u001b[0m\n\u001b[0;31m    http://gdac.broadinstitute.org/runs/analyses__2016_01_28/reports/cancer/GBM-TP/CopyNumber_Gistic2/nozzle.html\u001b[0m\n\u001b[0m         ^\u001b[0m\n\u001b[0;31mSyntaxError\u001b[0m\u001b[0;31m:\u001b[0m invalid syntax\n"
     ]
    }
   ],
   "source": [
    "print(\"Heeloadfasdf\")\n",
    "\n",
    "http://gdac.broadinstitute.org/runs/analyses__2016_01_28/reports/cancer/GBM-TP/CopyNumber_Gistic2/nozzle.html\n",
    "\n",
    "\n",
    "http://gdac.broadinstitute.org/runs/analyses__2016_01_28/data/GBM-TP/20160128/gdac.broadinstitute.org_GBM-TP.CopyNumber_Gistic2.Level_4.2016012800.0.0.tar.gz\n",
    "\n",
    "http://gdac.broadinstitute.org/runs/analyses__2016_01_28/data/BRCA-TP/20160128/gdac.broadinstitute.org_BRCA-TP.CopyNumber_Gistic2.Level_4.2016012800.0.0.tar.gz\n",
    "\n",
    "\n",
    "# Deletion table dataset url\n",
    "http://gdac.broadinstitute.org/runs/analyses__2016_01_28/reports/cancer/GBM-TP/CopyNumber_Gistic2/del_genes.conf_99.txt\n",
    "\n",
    "http://gdac.broadinstitute.org/runs/analyses__2016_01_28/reports/cancer/BRCA-TP/CopyNumber_Gistic2/del_genes.conf_99.txt\n",
    "\n",
    "# Amplification table dataset url\n",
    "http://gdac.broadinstitute.org/runs/analyses__2016_01_28/reports/cancer/BRCA-TP/CopyNumber_Gistic2/amp_genes.conf_99.txt\n",
    "\n",
    "# Arm Level\n",
    "http://gdac.broadinstitute.org/runs/analyses__2016_01_28/reports/cancer/BRCA-TP/CopyNumber_Gistic2/broad_significance_results.txt"
   ]
  },
  {
   "cell_type": "code",
   "execution_count": null,
   "metadata": {},
   "outputs": [],
   "source": []
  },
  {
   "cell_type": "code",
   "execution_count": null,
   "metadata": {},
   "outputs": [],
   "source": [
    "import requests"
   ]
  },
  {
   "cell_type": "code",
   "execution_count": null,
   "metadata": {},
   "outputs": [],
   "source": [
    "url = \"http://gdac.broadinstitute.org/runs/analyses__2016_01_28/reports/cancer/GBM-TP/CopyNumber_Gistic2/del_genes.conf_99.txt\"\n",
    "\n",
    "data = requests.get(url, allow_redirects=True)"
   ]
  },
  {
   "cell_type": "code",
   "execution_count": null,
   "metadata": {},
   "outputs": [
    {
     "data": {
      "text/plain": [
       "41265"
      ]
     },
     "execution_count": 9,
     "metadata": {},
     "output_type": "execute_result"
    }
   ],
   "source": [
    "open('data/datetion_dataset.txt', 'wb').write(data.content)"
   ]
  },
  {
   "cell_type": "code",
   "execution_count": 28,
   "metadata": {},
   "outputs": [
    {
     "data": {
      "application/vnd.jupyter.widget-view+json": {
       "model_id": "bb33ba9ee3e24ee7821aa329e9d7b0a2",
       "version_major": 2,
       "version_minor": 0
      },
      "text/plain": [
       "Dropdown(options=('Addition', 'Multiplication', 'Subtraction', 'Division'), value='Addition')"
      ]
     },
     "metadata": {},
     "output_type": "display_data"
    }
   ],
   "source": [
    "import ipywidgets as widgets\n",
    "from IPython.display import display\n",
    "\n",
    "dp = widgets.Dropdown(\n",
    "    # options=[('One',1),('Two',2),('Three',3)],\n",
    "    options=['Addition', 'Multiplication', 'Subtraction', 'Division'],\n",
    "    value='Addition',\n",
    "    despcription='NUmbers:'\n",
    ")\n",
    "newV = ''\n",
    "def on_change(change):\n",
    "    if change['type'] == 'change' and change['name'] == 'value':\n",
    "        newV = change['new']\n",
    "        print(\"changed to %s\" % change['new'])\n",
    "\n",
    "dp.observe(on_change)\n",
    "display(dp)"
   ]
  }
 ],
 "metadata": {
  "interpreter": {
   "hash": "38cca0c38332a56087b24af0bc80247f4fced29cb4f7f437d91dc159adec9c4e"
  },
  "kernelspec": {
   "display_name": "Python 3.8.8 64-bit ('base': conda)",
   "language": "python",
   "name": "python3"
  },
  "language_info": {
   "codemirror_mode": {
    "name": "ipython",
    "version": 3
   },
   "file_extension": ".py",
   "mimetype": "text/x-python",
   "name": "python",
   "nbconvert_exporter": "python",
   "pygments_lexer": "ipython3",
   "version": "3.8.8"
  },
  "orig_nbformat": 4
 },
 "nbformat": 4,
 "nbformat_minor": 2
}
