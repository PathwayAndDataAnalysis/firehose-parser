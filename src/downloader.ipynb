{
 "cells": [
  {
   "cell_type": "markdown",
   "metadata": {},
   "source": [
    "## Firehose Dataset Parser"
   ]
  },
  {
   "cell_type": "markdown",
   "metadata": {},
   "source": [
    "Official website of Firehose http://firebrowse.org/\n",
    "Official website of Broad Institute from where we can download all the datasets http://gdac.broadinstitute.org/#"
   ]
  },
  {
   "cell_type": "markdown",
   "metadata": {},
   "source": [
    "This tool automate the downloading of datasets from the broad institute official site. We have to choose the cancer tyoe from the available cancer types and it will download the datasets of corresponding cancer type. "
   ]
  },
  {
   "cell_type": "code",
   "execution_count": 72,
   "metadata": {},
   "outputs": [],
   "source": [
    "# Import all the necessary libraries\n",
    "import ipywidgets as widgets\n",
    "from IPython.display import display\n",
    "import requests\n",
    "import os"
   ]
  },
  {
   "cell_type": "code",
   "execution_count": 73,
   "metadata": {},
   "outputs": [],
   "source": [
    "# All available cancer types in Broad Institutes official site\n",
    "cancers = [('Adrenocortical carcinoma', 'ACC'),\n",
    "('Bladder Urothelial Carcinoma', 'BLCA'),\n",
    "('Breast invasive carcinoma', 'BRCA'),\n",
    "('Cervical squamous cell carcinoma and endocervical adenocarcinoma', 'CESC'),\n",
    "('Cholangiocarcinoma', 'CHOL'),\n",
    "('Colon adenocarcinoma', 'COAD'),\n",
    "('Colorectal adenocarcinoma', 'COADREAD'),\n",
    "('Lymphoid Neoplasm Diffuse Large B-cell Lymphoma', 'DLBC'),\n",
    "('Esophageal carcinoma', 'ESCA'),\n",
    "('FFPE Pilot Phase II', 'FPPP'),\n",
    "('Glioblastoma multiforme', 'GBM'),\n",
    "('Glioma', 'GBMLGG'),\n",
    "('Head and Neck squamous cell carcinoma', 'HNSC'),\n",
    "('Kidney Chromophobe', 'KICH'),\n",
    "('Pan-kidney cohort (KICH+KIRC+KIRP)', 'KIPAN'),\n",
    "('Kidney renal clear cell carcinoma', 'KIRC'),\n",
    "('Kidney renal papillary cell carcinoma', 'KIRP'),\n",
    "('Acute Myeloid Leukemia', 'LAML'),\n",
    "('Brain Lower Grade Glioma', 'LGG'),\n",
    "('Liver hepatocellular carcinoma', 'LIHC'),\n",
    "('Lung adenocarcinoma', 'LUAD'),\n",
    "('Lung squamous cell carcinoma', 'LUSC'),\n",
    "('Mesothelioma', 'MESO'),\n",
    "('Ovarian serous cystadenocarcinoma', 'OV'),\n",
    "('Pancreatic adenocarcinoma', 'PAAD'),\n",
    "('Pheochromocytoma and Paraganglioma', 'PCPG'),\n",
    "('Prostate adenocarcinoma', 'PRAD'),\n",
    "('Rectum adenocarcinoma', 'READ'),\n",
    "('Sarcoma', 'SARC'),\n",
    "('Skin Cutaneous Melanoma', 'SKCM'),\n",
    "('Stomach adenocarcinoma', 'STAD'),\n",
    "('Stomach and Esophageal carcinoma', 'STES'),\n",
    "('Testicular Germ Cell Tumors', 'TGCT'),\n",
    "('Thyroid carcinoma', 'THCA'),\n",
    "('Thymoma', 'THYM'),\n",
    "('Uterine Corpus Endometrial Carcinoma', 'UCEC'),\n",
    "('Uterine Carcinosarcoma', 'UCS'),\n",
    "('Uveal Melanoma', 'UVM')]"
   ]
  },
  {
   "cell_type": "code",
   "execution_count": 93,
   "metadata": {},
   "outputs": [],
   "source": [
    "# Function for safe directory creation\n",
    "def create_dir(path):\n",
    "    try:\n",
    "        os.mkdir(path)\n",
    "    except Exception as ex:\n",
    "        print('Directory already exist!')"
   ]
  },
  {
   "cell_type": "code",
   "execution_count": 95,
   "metadata": {},
   "outputs": [
    {
     "name": "stdout",
     "output_type": "stream",
     "text": [
      "Directory already exist!\n"
     ]
    }
   ],
   "source": [
    "# Prepare directories here\n",
    "# Create /data directory if not exist. All datasets will be placed in this directory\n",
    "create_dir('data')"
   ]
  },
  {
   "cell_type": "code",
   "execution_count": 105,
   "metadata": {},
   "outputs": [],
   "source": [
    "# Helper function to download file and save into /data directory\n",
    "def download_data(url):\n",
    "    try:\n",
    "        sp_url = url.split('/') # Url Array\n",
    "        \n",
    "        # Create directory for particular cancer\n",
    "        cancer_path = 'data/' + sp_url[-3]\n",
    "        print(cancer_path)\n",
    "        create_dir(cancer_path)\n",
    "        \n",
    "        # Request instance for downloading file\n",
    "        req = requests.get(url, allow_redirects=True)\n",
    "        \n",
    "        # Format file name\n",
    "        file_name = sp_url[-3] + '__' + sp_url[-2] + '__' + sp_url[-1] \n",
    "    \n",
    "        # Setup file path\n",
    "        data_path = cancer_path + '/' + file_name\n",
    "        print(data_path)\n",
    "        open(data_path, 'wb').write(req.content)\n",
    "        \n",
    "    except Exception as ex:\n",
    "        print(\"File not found!\")"
   ]
  },
  {
   "cell_type": "code",
   "execution_count": 110,
   "metadata": {},
   "outputs": [],
   "source": [
    "def on_change(change):\n",
    "    if change['type'] == 'change' and change['name'] == 'value':\n",
    "        selected_cancer = change['new']\n",
    "        dataset_url = \"http://gdac.broadinstitute.org/runs/analyses__2016_01_28/data/\"+selected_cancer+\"-TP/20160128/gdac.broadinstitute.org_\"+selected_cancer+\"-TP.CopyNumber_Gistic2.Level_4.2016012800.0.0.tar.gz\"\n",
    "\n",
    "        del_url = \"http://gdac.broadinstitute.org/runs/analyses__2016_01_28/reports/cancer/\"+selected_cancer+\"-TP/CopyNumber_Gistic2/del_genes.conf_99.txt\"\n",
    "        amp_url = \"http://gdac.broadinstitute.org/runs/analyses__2016_01_28/reports/cancer/\"+selected_cancer+\"-TP/CopyNumber_Gistic2/amp_genes.conf_99.txt\"\n",
    "        arm_url = \"http://gdac.broadinstitute.org/runs/analyses__2016_01_28/reports/cancer/\"+selected_cancer+\"-TP/CopyNumber_Gistic2/broad_significance_results.txt\"\n",
    "        \n",
    "        print(\"changed to %s\" % change['new'])\n",
    "        print(del_url)\n",
    "        print(amp_url)\n",
    "        download_data(del_url)\n",
    "        download_data(amp_url)\n",
    "        download_data(arm_url)\n",
    "        "
   ]
  },
  {
   "cell_type": "code",
   "execution_count": 111,
   "metadata": {},
   "outputs": [
    {
     "data": {
      "application/vnd.jupyter.widget-view+json": {
       "model_id": "db7714d762ed45699ff3edf848081b15",
       "version_major": 2,
       "version_minor": 0
      },
      "text/plain": [
       "Dropdown(description='Cancers DropDown List', index=10, options=(('Adrenocortical carcinoma', 'ACC'), ('Bladde…"
      ]
     },
     "metadata": {},
     "output_type": "display_data"
    },
    {
     "name": "stdout",
     "output_type": "stream",
     "text": [
      "changed to BRCA\n",
      "http://gdac.broadinstitute.org/runs/analyses__2016_01_28/reports/cancer/BRCA-TP/CopyNumber_Gistic2/del_genes.conf_99.txt\n",
      "http://gdac.broadinstitute.org/runs/analyses__2016_01_28/reports/cancer/BRCA-TP/CopyNumber_Gistic2/amp_genes.conf_99.txt\n",
      "data/BRCA-TP\n",
      "Directory already exist!\n",
      "data/BRCA-TP/BRCA-TP__CopyNumber_Gistic2__del_genes.conf_99.txt\n",
      "data/BRCA-TP\n",
      "Directory already exist!\n",
      "data/BRCA-TP/BRCA-TP__CopyNumber_Gistic2__amp_genes.conf_99.txt\n",
      "data/BRCA-TP\n",
      "Directory already exist!\n",
      "data/BRCA-TP/BRCA-TP__CopyNumber_Gistic2__broad_significance_results.txt\n"
     ]
    }
   ],
   "source": [
    "w = widgets.Dropdown(\n",
    "    options = cancers,\n",
    "    value='GBM',\n",
    "    description='Cancers DropDown List',\n",
    ")\n",
    "\n",
    "w.observe(on_change)\n",
    "\n",
    "display(w)"
   ]
  },
  {
   "cell_type": "code",
   "execution_count": null,
   "metadata": {},
   "outputs": [],
   "source": []
  }
 ],
 "metadata": {
  "kernelspec": {
   "display_name": "Python 3",
   "language": "python",
   "name": "python3"
  },
  "language_info": {
   "codemirror_mode": {
    "name": "ipython",
    "version": 3
   },
   "file_extension": ".py",
   "mimetype": "text/x-python",
   "name": "python",
   "nbconvert_exporter": "python",
   "pygments_lexer": "ipython3",
   "version": "3.8.8"
  }
 },
 "nbformat": 4,
 "nbformat_minor": 2
}
