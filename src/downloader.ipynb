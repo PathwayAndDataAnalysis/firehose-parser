{
 "cells": [
  {
   "cell_type": "code",
   "execution_count": 4,
   "metadata": {},
   "outputs": [],
   "source": [
    "cancers = [('Adrenocortical carcinoma', 'ACC'),\n",
    "('Bladder Urothelial Carcinoma', 'BLCA'),\n",
    "('Breast invasive carcinoma', 'BRCA'),\n",
    "('Cervical squamous cell carcinoma and endocervical adenocarcinoma', 'CESC'),\n",
    "('Cholangiocarcinoma', 'CHOL'),\n",
    "('Colon adenocarcinoma', 'COAD'),\n",
    "('Colorectal adenocarcinoma', 'COADREAD'),\n",
    "('Lymphoid Neoplasm Diffuse Large B-cell Lymphoma', 'DLBC'),\n",
    "('Esophageal carcinoma', 'ESCA'),\n",
    "('FFPE Pilot Phase II', 'FPPP'),\n",
    "('Glioblastoma multiforme', 'GBM'),\n",
    "('Glioma', 'GBMLGG'),\n",
    "('Head and Neck squamous cell carcinoma', 'HNSC'),\n",
    "('Kidney Chromophobe', 'KICH'),\n",
    "('Pan-kidney cohort (KICH+KIRC+KIRP)', 'KIPAN'),\n",
    "('Kidney renal clear cell carcinoma', 'KIRC'),\n",
    "('Kidney renal papillary cell carcinoma', 'KIRP'),\n",
    "('Acute Myeloid Leukemia', 'LAML'),\n",
    "('Brain Lower Grade Glioma', 'LGG'),\n",
    "('Liver hepatocellular carcinoma', 'LIHC'),\n",
    "('Lung adenocarcinoma', 'LUAD'),\n",
    "('Lung squamous cell carcinoma', 'LUSC'),\n",
    "('Mesothelioma', 'MESO'),\n",
    "('Ovarian serous cystadenocarcinoma', 'OV'),\n",
    "('Pancreatic adenocarcinoma', 'PAAD'),\n",
    "('Pheochromocytoma and Paraganglioma', 'PCPG'),\n",
    "('Prostate adenocarcinoma', 'PRAD'),\n",
    "('Rectum adenocarcinoma', 'READ'),\n",
    "('Sarcoma', 'SARC'),\n",
    "('Skin Cutaneous Melanoma', 'SKCM'),\n",
    "('Stomach adenocarcinoma', 'STAD'),\n",
    "('Stomach and Esophageal carcinoma', 'STES'),\n",
    "('Testicular Germ Cell Tumors', 'TGCT'),\n",
    "('Thyroid carcinoma', 'THCA'),\n",
    "('Thymoma', 'THYM'),\n",
    "('Uterine Corpus Endometrial Carcinoma', 'UCEC'),\n",
    "('Uterine Carcinosarcoma', 'UCS'),\n",
    "('Uveal Melanoma', 'UVM')]"
   ]
  },
  {
   "cell_type": "code",
   "execution_count": 5,
   "metadata": {},
   "outputs": [],
   "source": [
    "import ipywidgets as widgets\n",
    "from IPython.display import display"
   ]
  },
  {
   "cell_type": "code",
   "execution_count": 18,
   "metadata": {},
   "outputs": [
    {
     "data": {
      "application/vnd.jupyter.widget-view+json": {
       "model_id": "487c1f73423a4901b7aff9b99ab3097a",
       "version_major": 2,
       "version_minor": 0
      },
      "text/plain": [
       "Dropdown(description='Task:', index=10, options=(('Adrenocortical carcinoma', 'ACC'), ('Bladder Urothelial Car…"
      ]
     },
     "metadata": {},
     "output_type": "display_data"
    },
    {
     "name": "stdout",
     "output_type": "stream",
     "text": [
      "changed to FPPP\n",
      "http://gdac.broadinstitute.org/runs/analyses__2016_01_28/reports/cancer/FPPP-TP/CopyNumber_Gistic2/del_genes.conf_99.txt\n",
      "http://gdac.broadinstitute.org/runs/analyses__2016_01_28/data/FPPP-TP/20160128/gdac.broadinstitute.org_FPPP-TP.CopyNumber_Gistic2.Level_4.2016012800.0.0.tar.gz\n",
      "changed to GBM\n",
      "http://gdac.broadinstitute.org/runs/analyses__2016_01_28/reports/cancer/GBM-TP/CopyNumber_Gistic2/del_genes.conf_99.txt\n",
      "http://gdac.broadinstitute.org/runs/analyses__2016_01_28/data/GBM-TP/20160128/gdac.broadinstitute.org_GBM-TP.CopyNumber_Gistic2.Level_4.2016012800.0.0.tar.gz\n"
     ]
    }
   ],
   "source": [
    "w = widgets.Dropdown(\n",
    "    options = cancers,\n",
    "    value='GBM',\n",
    "    description='Task:',\n",
    ")\n",
    "\n",
    "\n",
    "def on_change(change):\n",
    "    if change['type'] == 'change' and change['name'] == 'value':\n",
    "        selected_cancer = change['new']\n",
    "        url = \"http://gdac.broadinstitute.org/runs/analyses__2016_01_28/reports/cancer/\"+selected_cancer+\"-TP/CopyNumber_Gistic2/del_genes.conf_99.txt\"\n",
    "        dataset_url = \"http://gdac.broadinstitute.org/runs/analyses__2016_01_28/data/\"+selected_cancer+\"-TP/20160128/gdac.broadinstitute.org_\"+selected_cancer+\"-TP.CopyNumber_Gistic2.Level_4.2016012800.0.0.tar.gz\"\n",
    "        print(\"changed to %s\" % change['new'])\n",
    "        print(url)\n",
    "        print(dataset_url)\n",
    "\n",
    "w.observe(on_change)\n",
    "\n",
    "display(w)\n",
    "\n"
   ]
  },
  {
   "cell_type": "code",
   "execution_count": null,
   "metadata": {},
   "outputs": [],
   "source": []
  }
 ],
 "metadata": {
  "kernelspec": {
   "display_name": "Python 3",
   "language": "python",
   "name": "python3"
  },
  "language_info": {
   "codemirror_mode": {
    "name": "ipython",
    "version": 3
   },
   "file_extension": ".py",
   "mimetype": "text/x-python",
   "name": "python",
   "nbconvert_exporter": "python",
   "pygments_lexer": "ipython3",
   "version": "3.8.8"
  }
 },
 "nbformat": 4,
 "nbformat_minor": 2
}
