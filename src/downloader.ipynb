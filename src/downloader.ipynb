{
 "cells": [
  {
   "cell_type": "markdown",
   "metadata": {},
   "source": [
    "## Firehose Dataset Parser"
   ]
  },
  {
   "cell_type": "markdown",
   "metadata": {},
   "source": [
    "Official website of Firehose http://firebrowse.org/\n",
    "Official website of Broad Institute from where we can download all the datasets http://gdac.broadinstitute.org/#"
   ]
  },
  {
   "cell_type": "markdown",
   "metadata": {},
   "source": [
    "This tool automate the downloading of datasets from the broad institute official site. We have to choose the cancer tyoe from the available cancer types and it will download the datasets of corresponding cancer type. "
   ]
  },
  {
   "cell_type": "code",
   "execution_count": 172,
   "metadata": {},
   "outputs": [],
   "source": [
    "# Import all the necessary libraries\n",
    "import ipywidgets as widgets\n",
    "from IPython.display import display\n",
    "import requests\n",
    "import os"
   ]
  },
  {
   "cell_type": "code",
   "execution_count": 173,
   "metadata": {},
   "outputs": [],
   "source": [
    "# All available cancer types in Broad Institutes official site\n",
    "cancers = [('Adrenocortical carcinoma', 'ACC'),\n",
    "('Bladder Urothelial Carcinoma', 'BLCA'),\n",
    "('Breast invasive carcinoma', 'BRCA'),\n",
    "('Cervical squamous cell carcinoma and endocervical adenocarcinoma', 'CESC'),\n",
    "('Cholangiocarcinoma', 'CHOL'),\n",
    "('Colon adenocarcinoma', 'COAD'),\n",
    "('Colorectal adenocarcinoma', 'COADREAD'),\n",
    "('Lymphoid Neoplasm Diffuse Large B-cell Lymphoma', 'DLBC'),\n",
    "('Esophageal carcinoma', 'ESCA'),\n",
    "('FFPE Pilot Phase II', 'FPPP'),\n",
    "('Glioblastoma multiforme', 'GBM'),\n",
    "('Glioma', 'GBMLGG'),\n",
    "('Head and Neck squamous cell carcinoma', 'HNSC'),\n",
    "('Kidney Chromophobe', 'KICH'),\n",
    "('Pan-kidney cohort (KICH+KIRC+KIRP)', 'KIPAN'),\n",
    "('Kidney renal clear cell carcinoma', 'KIRC'),\n",
    "('Kidney renal papillary cell carcinoma', 'KIRP'),\n",
    "('Acute Myeloid Leukemia', 'LAML'),\n",
    "('Brain Lower Grade Glioma', 'LGG'),\n",
    "('Liver hepatocellular carcinoma', 'LIHC'),\n",
    "('Lung adenocarcinoma', 'LUAD'),\n",
    "('Lung squamous cell carcinoma', 'LUSC'),\n",
    "('Mesothelioma', 'MESO'),\n",
    "('Ovarian serous cystadenocarcinoma', 'OV'),\n",
    "('Pancreatic adenocarcinoma', 'PAAD'),\n",
    "('Pheochromocytoma and Paraganglioma', 'PCPG'),\n",
    "('Prostate adenocarcinoma', 'PRAD'),\n",
    "('Rectum adenocarcinoma', 'READ'),\n",
    "('Sarcoma', 'SARC'),\n",
    "('Skin Cutaneous Melanoma', 'SKCM'),\n",
    "('Stomach adenocarcinoma', 'STAD'),\n",
    "('Stomach and Esophageal carcinoma', 'STES'),\n",
    "('Testicular Germ Cell Tumors', 'TGCT'),\n",
    "('Thyroid carcinoma', 'THCA'),\n",
    "('Thymoma', 'THYM'),\n",
    "('Uterine Corpus Endometrial Carcinoma', 'UCEC'),\n",
    "('Uterine Carcinosarcoma', 'UCS'),\n",
    "('Uveal Melanoma', 'UVM')]"
   ]
  },
  {
   "cell_type": "code",
   "execution_count": 174,
   "metadata": {},
   "outputs": [],
   "source": [
    "# Function for safe directory creation\n",
    "def create_dir(path):\n",
    "    try:\n",
    "        os.mkdir(path)\n",
    "    except Exception as ex:\n",
    "        print('Directory already exist!')"
   ]
  },
  {
   "cell_type": "code",
   "execution_count": 175,
   "metadata": {},
   "outputs": [
    {
     "name": "stdout",
     "output_type": "stream",
     "text": [
      "Directory already exist!\n"
     ]
    }
   ],
   "source": [
    "# Prepare directories here\n",
    "# Create /data directory if not exist. All datasets will be placed in this directory\n",
    "create_dir('data')"
   ]
  },
  {
   "cell_type": "markdown",
   "metadata": {},
   "source": [
    "### download_data(url) function downloads file using requests library of python\n",
    "All data files are downloaded in the /data directory"
   ]
  },
  {
   "cell_type": "code",
   "execution_count": 176,
   "metadata": {},
   "outputs": [],
   "source": [
    "# Helper function to download file and save into /data directory\n",
    "def download_data(url):\n",
    "    try:\n",
    "        sp_url = url.split('/') # Url Array\n",
    "        \n",
    "        # Create directory for particular cancer\n",
    "        cancer_path = 'data/' + sp_url[-3]\n",
    "        print(cancer_path)\n",
    "        create_dir(cancer_path)\n",
    "        \n",
    "        # Request instance for downloading file\n",
    "        req = requests.get(url, allow_redirects=True)\n",
    "        \n",
    "        # Format file name\n",
    "        file_name = sp_url[-3] + '__' + sp_url[-2] + '__' + sp_url[-1] \n",
    "    \n",
    "        # Setup file path\n",
    "        data_path = cancer_path + '/' + file_name\n",
    "        print(data_path)\n",
    "        open(data_path, 'wb').write(req.content)\n",
    "        \n",
    "    except Exception as ex:\n",
    "        print(\"File not found!\")"
   ]
  },
  {
   "cell_type": "markdown",
   "metadata": {},
   "source": [
    "### There was a common pattern in download url\n",
    "Using those common pattern of the download url, we can construct a download url for different datasets"
   ]
  },
  {
   "cell_type": "code",
   "execution_count": 177,
   "metadata": {},
   "outputs": [],
   "source": [
    "def download_copy_number(selected_cancer):\n",
    "    dataset_url = \"http://gdac.broadinstitute.org/runs/analyses__2016_01_28/data/\" + selected_cancer + \"-TP/20160128/gdac.broadinstitute.org_\" + selected_cancer + \"-TP.CopyNumber_Gistic2.Level_4.2016012800.0.0.tar.gz\"\n",
    "\n",
    "    del_url = \"http://gdac.broadinstitute.org/runs/analyses__2016_01_28/reports/cancer/\" + selected_cancer + \"-TP/CopyNumber_Gistic2/del_genes.conf_99.txt\"\n",
    "    amp_url = \"http://gdac.broadinstitute.org/runs/analyses__2016_01_28/reports/cancer/\" + selected_cancer + \"-TP/CopyNumber_Gistic2/amp_genes.conf_99.txt\"\n",
    "    arm_url = \"http://gdac.broadinstitute.org/runs/analyses__2016_01_28/reports/cancer/\" + selected_cancer + \"-TP/CopyNumber_Gistic2/broad_significance_results.txt\"\n",
    "    broad_arm_url = \"http://gdac.broadinstitute.org/runs/analyses__2016_01_28/reports/cancer/\" + selected_cancer + \"-TP/CopyNumber_Gistic2/broad_values_by_arm.txt\"\n",
    "\n",
    "    \n",
    "    print(dataset_url)\n",
    "    print(del_url)\n",
    "    print(amp_url)\n",
    "    print(arm_url)\n",
    "    print(broad_arm_url)\n",
    "\n",
    "    download_data(del_url)\n",
    "    download_data(amp_url)\n",
    "    download_data(arm_url)\n",
    "    download_data(broad_arm_url)\n",
    "    download_data(dataset_url)\n",
    "    "
   ]
  },
  {
   "cell_type": "markdown",
   "metadata": {},
   "source": [
    "### Mutation Analysis datasets also has similar type of symmetricity"
   ]
  },
  {
   "cell_type": "code",
   "execution_count": 178,
   "metadata": {},
   "outputs": [],
   "source": [
    "def download_mutsig(selected_cancer):\n",
    "    dataset_url = \"http://gdac.broadinstitute.org/runs/analyses__2016_01_28/data/\" + selected_cancer + \"-TP/20160128/gdac.broadinstitute.org_\" + selected_cancer + \"-TP.MutSigNozzleReport2CV.Level_4.2016012800.0.0.tar.gz\"\n",
    "    mut_url = \"http://gdac.broadinstitute.org/runs/analyses__2016_01_28/reports/cancer/\" + selected_cancer + \"-TP/MutSigNozzleReport2CV/sig_genes.txt\"\n",
    "    \n",
    "    print(dataset_url)\n",
    "    print(mut_url)\n",
    "\n",
    "    download_data(mut_url)\n",
    "    download_data(dataset_url)\n",
    "    "
   ]
  },
  {
   "cell_type": "markdown",
   "metadata": {},
   "source": [
    "### on_change(change) function is a event trigger function\n",
    "This function triggers when the user change the type of cancer in dropdown menu. As soon as user change the cancer type from the dropdown this function downloads datasets."
   ]
  },
  {
   "cell_type": "code",
   "execution_count": 179,
   "metadata": {},
   "outputs": [],
   "source": [
    "def on_change(change):\n",
    "    if change['type'] == 'change' and change['name'] == 'value':\n",
    "        selected_cancer = change['new']\n",
    "        print(\"changed to %s\" % selected_cancer)\n",
    "        \n",
    "        download_copy_number(selected_cancer)\n",
    "        download_mutsig(selected_cancer) "
   ]
  },
  {
   "cell_type": "markdown",
   "metadata": {},
   "source": [
    "Now let's create a dropdown menu for all the types of cancers available in broad firehose website"
   ]
  },
  {
   "cell_type": "code",
   "execution_count": 180,
   "metadata": {},
   "outputs": [
    {
     "data": {
      "application/vnd.jupyter.widget-view+json": {
       "model_id": "528b09b6bd804fe69230ae9a21895b5c",
       "version_major": 2,
       "version_minor": 0
      },
      "text/plain": [
       "Dropdown(description='Cancers DropDown List', index=10, options=(('Adrenocortical carcinoma', 'ACC'), ('Bladde…"
      ]
     },
     "metadata": {},
     "output_type": "display_data"
    },
    {
     "name": "stdout",
     "output_type": "stream",
     "text": [
      "changed to BRCA\n",
      "http://gdac.broadinstitute.org/runs/analyses__2016_01_28/data/BRCA-TP/20160128/gdac.broadinstitute.org_BRCA-TP.CopyNumber_Gistic2.Level_4.2016012800.0.0.tar.gz\n",
      "http://gdac.broadinstitute.org/runs/analyses__2016_01_28/reports/cancer/BRCA-TP/CopyNumber_Gistic2/del_genes.conf_99.txt\n",
      "http://gdac.broadinstitute.org/runs/analyses__2016_01_28/reports/cancer/BRCA-TP/CopyNumber_Gistic2/amp_genes.conf_99.txt\n",
      "http://gdac.broadinstitute.org/runs/analyses__2016_01_28/reports/cancer/BRCA-TP/CopyNumber_Gistic2/broad_significance_results.txt\n",
      "http://gdac.broadinstitute.org/runs/analyses__2016_01_28/reports/cancer/BRCA-TP/CopyNumber_Gistic2/broad_values_by_arm.txt\n",
      "data/BRCA-TP\n",
      "data/BRCA-TP/BRCA-TP__CopyNumber_Gistic2__del_genes.conf_99.txt\n",
      "data/BRCA-TP\n",
      "Directory already exist!\n",
      "data/BRCA-TP/BRCA-TP__CopyNumber_Gistic2__amp_genes.conf_99.txt\n",
      "data/BRCA-TP\n",
      "Directory already exist!\n",
      "data/BRCA-TP/BRCA-TP__CopyNumber_Gistic2__broad_significance_results.txt\n",
      "data/BRCA-TP\n",
      "Directory already exist!\n",
      "data/BRCA-TP/BRCA-TP__CopyNumber_Gistic2__broad_values_by_arm.txt\n",
      "data/BRCA-TP\n",
      "Directory already exist!\n",
      "data/BRCA-TP/BRCA-TP__20160128__gdac.broadinstitute.org_BRCA-TP.CopyNumber_Gistic2.Level_4.2016012800.0.0.tar.gz\n",
      "http://gdac.broadinstitute.org/runs/analyses__2016_01_28/data/BRCA-TP/20160128/gdac.broadinstitute.org_BRCA-TP.MutSigNozzleReport2CV.Level_4.2016012800.0.0.tar.gz\n",
      "http://gdac.broadinstitute.org/runs/analyses__2016_01_28/reports/cancer/BRCA-TP/MutSigNozzleReport2CV/sig_genes.txt\n",
      "data/BRCA-TP\n",
      "Directory already exist!\n",
      "data/BRCA-TP/BRCA-TP__MutSigNozzleReport2CV__sig_genes.txt\n",
      "data/BRCA-TP\n",
      "Directory already exist!\n",
      "data/BRCA-TP/BRCA-TP__20160128__gdac.broadinstitute.org_BRCA-TP.MutSigNozzleReport2CV.Level_4.2016012800.0.0.tar.gz\n"
     ]
    }
   ],
   "source": [
    "w = widgets.Dropdown(\n",
    "    options = cancers,\n",
    "    value='GBM',\n",
    "    description='Cancers DropDown List',\n",
    ")\n",
    "\n",
    "w.observe(on_change)\n",
    "\n",
    "display(w)"
   ]
  },
  {
   "cell_type": "markdown",
   "metadata": {},
   "source": [
    "## Using panda, and numpy"
   ]
  },
  {
   "cell_type": "code",
   "execution_count": 171,
   "metadata": {},
   "outputs": [],
   "source": [
    "import pandas as pd\n",
    "import numpy as np"
   ]
  },
  {
   "cell_type": "code",
   "execution_count": 161,
   "metadata": {},
   "outputs": [
    {
     "data": {
      "text/html": [
       "<div>\n",
       "<style scoped>\n",
       "    .dataframe tbody tr th:only-of-type {\n",
       "        vertical-align: middle;\n",
       "    }\n",
       "\n",
       "    .dataframe tbody tr th {\n",
       "        vertical-align: top;\n",
       "    }\n",
       "\n",
       "    .dataframe thead th {\n",
       "        text-align: right;\n",
       "    }\n",
       "</style>\n",
       "<table border=\"1\" class=\"dataframe\">\n",
       "  <thead>\n",
       "    <tr style=\"text-align: right;\">\n",
       "      <th></th>\n",
       "      <th>rank</th>\n",
       "      <th>gene</th>\n",
       "      <th>longname</th>\n",
       "      <th>codelen</th>\n",
       "      <th>nnei</th>\n",
       "      <th>nncd</th>\n",
       "      <th>nsil</th>\n",
       "      <th>nmis</th>\n",
       "      <th>nstp</th>\n",
       "      <th>nspl</th>\n",
       "      <th>nind</th>\n",
       "      <th>nnon</th>\n",
       "      <th>npat</th>\n",
       "      <th>nsite</th>\n",
       "      <th>pCV</th>\n",
       "      <th>pCL</th>\n",
       "      <th>pFN</th>\n",
       "      <th>p</th>\n",
       "      <th>q</th>\n",
       "    </tr>\n",
       "  </thead>\n",
       "  <tbody>\n",
       "    <tr>\n",
       "      <th>0</th>\n",
       "      <td>1</td>\n",
       "      <td>PIK3CA</td>\n",
       "      <td>phosphoinositide-3-kinase, catalytic, alpha po...</td>\n",
       "      <td>3287</td>\n",
       "      <td>13</td>\n",
       "      <td>0</td>\n",
       "      <td>6</td>\n",
       "      <td>338</td>\n",
       "      <td>0</td>\n",
       "      <td>6</td>\n",
       "      <td>7</td>\n",
       "      <td>351</td>\n",
       "      <td>316</td>\n",
       "      <td>53</td>\n",
       "      <td>1.000000e-16</td>\n",
       "      <td>0.000010</td>\n",
       "      <td>0.00001</td>\n",
       "      <td>1.000000e-16</td>\n",
       "      <td>4.567000e-13</td>\n",
       "    </tr>\n",
       "    <tr>\n",
       "      <th>1</th>\n",
       "      <td>2</td>\n",
       "      <td>TP53</td>\n",
       "      <td>tumor protein p53</td>\n",
       "      <td>1890</td>\n",
       "      <td>0</td>\n",
       "      <td>0</td>\n",
       "      <td>4</td>\n",
       "      <td>173</td>\n",
       "      <td>45</td>\n",
       "      <td>23</td>\n",
       "      <td>59</td>\n",
       "      <td>300</td>\n",
       "      <td>297</td>\n",
       "      <td>161</td>\n",
       "      <td>1.000000e-16</td>\n",
       "      <td>0.000010</td>\n",
       "      <td>0.00001</td>\n",
       "      <td>1.000000e-16</td>\n",
       "      <td>4.567000e-13</td>\n",
       "    </tr>\n",
       "    <tr>\n",
       "      <th>2</th>\n",
       "      <td>3</td>\n",
       "      <td>GATA3</td>\n",
       "      <td>GATA binding protein 3</td>\n",
       "      <td>1351</td>\n",
       "      <td>20</td>\n",
       "      <td>0</td>\n",
       "      <td>2</td>\n",
       "      <td>9</td>\n",
       "      <td>2</td>\n",
       "      <td>1</td>\n",
       "      <td>89</td>\n",
       "      <td>101</td>\n",
       "      <td>97</td>\n",
       "      <td>56</td>\n",
       "      <td>1.557174e-15</td>\n",
       "      <td>0.000010</td>\n",
       "      <td>0.36125</td>\n",
       "      <td>1.000000e-16</td>\n",
       "      <td>4.567000e-13</td>\n",
       "    </tr>\n",
       "    <tr>\n",
       "      <th>3</th>\n",
       "      <td>4</td>\n",
       "      <td>MAP3K1</td>\n",
       "      <td>mitogen-activated protein kinase kinase kinase 1</td>\n",
       "      <td>4615</td>\n",
       "      <td>7</td>\n",
       "      <td>0</td>\n",
       "      <td>1</td>\n",
       "      <td>16</td>\n",
       "      <td>14</td>\n",
       "      <td>4</td>\n",
       "      <td>64</td>\n",
       "      <td>98</td>\n",
       "      <td>71</td>\n",
       "      <td>88</td>\n",
       "      <td>1.000000e-16</td>\n",
       "      <td>0.000020</td>\n",
       "      <td>0.92878</td>\n",
       "      <td>1.000000e-16</td>\n",
       "      <td>4.567000e-13</td>\n",
       "    </tr>\n",
       "    <tr>\n",
       "      <th>4</th>\n",
       "      <td>5</td>\n",
       "      <td>CDH1</td>\n",
       "      <td>cadherin 1, type 1, E-cadherin (epithelial)</td>\n",
       "      <td>2709</td>\n",
       "      <td>6</td>\n",
       "      <td>0</td>\n",
       "      <td>1</td>\n",
       "      <td>16</td>\n",
       "      <td>29</td>\n",
       "      <td>12</td>\n",
       "      <td>52</td>\n",
       "      <td>109</td>\n",
       "      <td>107</td>\n",
       "      <td>90</td>\n",
       "      <td>1.233779e-15</td>\n",
       "      <td>0.000533</td>\n",
       "      <td>0.67910</td>\n",
       "      <td>2.220446e-16</td>\n",
       "      <td>8.112622e-13</td>\n",
       "    </tr>\n",
       "  </tbody>\n",
       "</table>\n",
       "</div>"
      ],
      "text/plain": [
       "   rank    gene                                           longname  codelen  \\\n",
       "0     1  PIK3CA  phosphoinositide-3-kinase, catalytic, alpha po...     3287   \n",
       "1     2    TP53                                  tumor protein p53     1890   \n",
       "2     3   GATA3                             GATA binding protein 3     1351   \n",
       "3     4  MAP3K1   mitogen-activated protein kinase kinase kinase 1     4615   \n",
       "4     5    CDH1        cadherin 1, type 1, E-cadherin (epithelial)     2709   \n",
       "\n",
       "   nnei  nncd  nsil  nmis  nstp  nspl  nind  nnon  npat  nsite           pCV  \\\n",
       "0    13     0     6   338     0     6     7   351   316     53  1.000000e-16   \n",
       "1     0     0     4   173    45    23    59   300   297    161  1.000000e-16   \n",
       "2    20     0     2     9     2     1    89   101    97     56  1.557174e-15   \n",
       "3     7     0     1    16    14     4    64    98    71     88  1.000000e-16   \n",
       "4     6     0     1    16    29    12    52   109   107     90  1.233779e-15   \n",
       "\n",
       "        pCL      pFN             p             q  \n",
       "0  0.000010  0.00001  1.000000e-16  4.567000e-13  \n",
       "1  0.000010  0.00001  1.000000e-16  4.567000e-13  \n",
       "2  0.000010  0.36125  1.000000e-16  4.567000e-13  \n",
       "3  0.000020  0.92878  1.000000e-16  4.567000e-13  \n",
       "4  0.000533  0.67910  2.220446e-16  8.112622e-13  "
      ]
     },
     "execution_count": 161,
     "metadata": {},
     "output_type": "execute_result"
    }
   ],
   "source": [
    "df = pd.read_csv('data/BRCA-TP/BRCA-TP__MutSigNozzleReport2CV__sig_genes.txt', delimiter=\"\\t\")\n",
    "# df = pd.read_fwf('cancers.txt')\n",
    "df.head()\n"
   ]
  },
  {
   "cell_type": "code",
   "execution_count": null,
   "metadata": {},
   "outputs": [],
   "source": []
  }
 ],
 "metadata": {
  "kernelspec": {
   "display_name": "Python 3",
   "language": "python",
   "name": "python3"
  },
  "language_info": {
   "codemirror_mode": {
    "name": "ipython",
    "version": 3
   },
   "file_extension": ".py",
   "mimetype": "text/x-python",
   "name": "python",
   "nbconvert_exporter": "python",
   "pygments_lexer": "ipython3",
   "version": "3.8.8"
  }
 },
 "nbformat": 4,
 "nbformat_minor": 2
}
